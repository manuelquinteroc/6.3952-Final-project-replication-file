{
 "cells": [
  {
   "cell_type": "code",
   "execution_count": 1,
   "metadata": {},
   "outputs": [],
   "source": [
    "import numpy as np\n",
    "import matplotlib.pyplot as plt\n"
   ]
  },
  {
   "cell_type": "code",
   "execution_count": 5,
   "metadata": {},
   "outputs": [],
   "source": [
    "def sinkhorn_with_per_user_penalty(C, a, b, P, epsilon, lambda_p, precision=1e-6, max_iter=1000):\n",
    "    \"\"\"\n",
    "    Sinkhorn algorithm with per-user polarization penalty.\n",
    "\n",
    "    Parameters:\n",
    "        C (ndarray): Cost matrix of shape (n_users, n_content).\n",
    "        a (ndarray): Source distribution (users), shape (n_users, 1).\n",
    "        b (ndarray): Target distribution (content), shape (n_content, 1).\n",
    "        P (ndarray): Polarization scores of content, shape (n_content,).\n",
    "        epsilon (float): Entropy regularization parameter.\n",
    "        lambda_p (float): Penalty weight for per-user polarization.\n",
    "        precision (float): Convergence threshold.\n",
    "        max_iter (int): Maximum number of iterations.\n",
    "\n",
    "    Returns:\n",
    "        Pi (ndarray): Optimal transport plan.\n",
    "        results (dict): Contains histories of per-user polarizations, objective values, and other metrics.\n",
    "    \"\"\"\n",
    "    n_users, n_content = C.shape\n",
    "    r = a.flatten()\n",
    "    \n",
    "    # Initialize Pi\n",
    "    Pi = np.outer(a, b.T)\n",
    "    Pi /= Pi.sum()\n",
    "    \n",
    "    # Histories for plotting and analysis\n",
    "    per_user_polarization_history = []\n",
    "    objective_history = []\n",
    "    iteration_history = []\n",
    "    \n",
    "    for iteration in range(max_iter):\n",
    "        # Compute per-user polarization\n",
    "        P_u = (Pi @ P) / r  # Shape: (n_users,)\n",
    "        per_user_polarization_history.append(P_u.copy())\n",
    "        \n",
    "        # Update adjusted cost matrix\n",
    "        C_adj = C.copy()\n",
    "        for i in range(n_users):\n",
    "            C_adj[i, :] += 2 * lambda_p * (P_u[i] * P) / r[i]\n",
    "        \n",
    "        # Compute kernel matrix K\n",
    "        max_exponent = 700  # To prevent overflow\n",
    "        exponent = -C_adj / epsilon\n",
    "        exponent = np.clip(exponent, -max_exponent, max_exponent)\n",
    "        K = np.exp(exponent)\n",
    "        \n",
    "        # Sinkhorn iterations to update u and v\n",
    "        u = np.ones((n_users, 1))\n",
    "        v = np.ones((n_content, 1))\n",
    "        for _ in range(1000):\n",
    "            u_prev = u.copy()\n",
    "            v_prev = v.copy()\n",
    "            u = a / np.maximum(K @ v, 1e-100)\n",
    "            v = b / np.maximum(K.T @ u, 1e-100)\n",
    "            err_u = np.linalg.norm(u - u_prev)\n",
    "            err_v = np.linalg.norm(v - v_prev)\n",
    "            if err_u < precision and err_v < precision:\n",
    "                break\n",
    "        \n",
    "        # Update transport plan Pi\n",
    "        Pi_new = np.diagflat(u.flatten()) @ K @ np.diagflat(v.flatten())\n",
    "        \n",
    "        # Compute objective function value\n",
    "        entropy_term = epsilon * np.sum(Pi_new * (np.log(Pi_new + 1e-100) - 1))\n",
    "        per_user_penalty = lambda_p * np.sum((P_u) ** 2)\n",
    "        objective = -np.sum(Pi_new * C) + entropy_term + per_user_penalty\n",
    "        objective_history.append(objective)\n",
    "        iteration_history.append(iteration)\n",
    "        \n",
    "        # Check for convergence\n",
    "        diff = np.linalg.norm(Pi_new - Pi)\n",
    "        if diff < precision:\n",
    "            print(f\"Converged at iteration {iteration}\")\n",
    "            break\n",
    "        Pi = Pi_new.copy()\n",
    "    else:\n",
    "        print(f\"Reached maximum iterations ({max_iter}) without full convergence.\")\n",
    "    \n",
    "    # Prepare results\n",
    "    results = {\n",
    "        'Pi': Pi,\n",
    "        'per_user_polarization_history': per_user_polarization_history,\n",
    "        'objective_history': objective_history,\n",
    "        'iterations': iteration_history\n",
    "    }\n",
    "    \n",
    "    return Pi, results\n"
   ]
  },
  {
   "cell_type": "code",
   "execution_count": null,
   "metadata": {},
   "outputs": [
    {
     "name": "stdout",
     "output_type": "stream",
     "text": [
      "Reached maximum iterations (1000) without full convergence.\n",
      "Optimal transport plan computed.\n",
      "Max per-user polarization: 0.912550\n",
      "Average per-user polarization: 0.594350\n",
      "Sum over users (should equal a): False\n",
      "Sum over content (should equal b): True\n"
     ]
    },
    {
     "data": {
      "image/png": "[encoded data removed]",
      "text/plain": [
       "<Figure size 576x432 with 1 Axes>"
      ]
     },
     "metadata": {
      "needs_background": "light"
     },
     "output_type": "display_data"
    },
    {
     "data": {
      "image/png": "[encoded data removed]",
      "text/plain": [
       "<Figure size 576x432 with 1 Axes>"
      ]
     },
     "metadata": {
      "needs_background": "light"
     },
     "output_type": "display_data"
    }
   ],
   "source": [
    "# Example setup\n",
    "if __name__ == \"__main__\":\n",
    "    n_users = 100  # Adjust as needed\n",
    "    n_content = 80\n",
    "    np.random.seed(42)\n",
    "    \n",
    "    # Generate distributions and polarization scores\n",
    "    a = np.random.rand(n_users, 1)\n",
    "    a /= a.sum()\n",
    "    b = np.random.rand(n_content, 1)\n",
    "    b /= b.sum()\n",
    "    C = np.random.rand(n_users, n_content)  # Cost matrix\n",
    "    P = np.random.rand(n_content)  # Polarization scores\n",
    "    \n",
    "    # Parameters\n",
    "    epsilon = 0.1\n",
    "    lambda_p = 1.0  # Penalty weight\n",
    "    precision = 1e-6\n",
    "    max_iter = 1000\n",
    "    \n",
    "    # Run the modified Sinkhorn algorithm\n",
    "    Pi, results = sinkhorn_with_per_user_penalty(\n",
    "        C, a, b, P, epsilon, lambda_p, precision=precision, max_iter=max_iter\n",
    "    )\n",
    "    \n",
    "    # Compute per-user polarization\n",
    "    per_user_polarization = (Pi @ P) / a.flatten()\n",
    "    \n",
    "    # Print results\n",
    "    print(\"Optimal transport plan computed.\")\n",
    "    print(f\"Max per-user polarization: {np.max(np.abs(per_user_polarization)):.6f}\")\n",
    "    print(f\"Average per-user polarization: {np.mean(np.abs(per_user_polarization)):.6f}\")\n",
    "    print(f\"Sum over users (should equal a): {np.allclose(Pi.sum(axis=1, keepdims=True), a, atol=1e-6)}\")\n",
    "    print(f\"Sum over content (should equal b): {np.allclose(Pi.sum(axis=0, keepdims=True).T, b, atol=1e-6)}\")\n",
    "    \n",
    "    # Plotting per-user polarization distribution\n",
    "    plt.figure(figsize=(8, 6))\n",
    "    plt.hist(per_user_polarization, bins=20, edgecolor='black')\n",
    "    plt.xlabel('Per-User Polarization')\n",
    "    plt.ylabel('Number of Users')\n",
    "    plt.title('Distribution of Per-User Polarization')\n",
    "    plt.grid(True)\n",
    "    plt.tight_layout()\n",
    "    plt.show()\n",
    "    \n",
    "    # Plotting objective function over iterations\n",
    "    plt.figure(figsize=(8, 6))\n",
    "    plt.plot(results['iterations'], results['objective_history'], marker='o')\n",
    "    plt.xlabel('Iteration')\n",
    "    plt.ylabel('Objective Function Value')\n",
    "    plt.title('Objective Function Over Iterations')\n",
    "    plt.grid(True)\n",
    "    plt.tight_layout()\n",
    "    plt.show()\n"
   ]
  },
  {
   "cell_type": "code",
   "execution_count": null,
   "metadata": {},
   "outputs": [],
   "source": []
  }
 ],
 "metadata": {
  "kernelspec": {
   "display_name": "base",
   "language": "python",
   "name": "python3"
  },
  "language_info": {
   "codemirror_mode": {
    "name": "ipython",
    "version": 3
   },
   "file_extension": ".py",
   "mimetype": "text/x-python",
   "name": "python",
   "nbconvert_exporter": "python",
   "pygments_lexer": "ipython3",
   "version": "3.9.12"
  }
 },
 "nbformat": 4,
 "nbformat_minor": 2
}
