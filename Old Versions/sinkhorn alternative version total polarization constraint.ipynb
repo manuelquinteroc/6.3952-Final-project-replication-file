{
 "cells": [
  {
   "cell_type": "code",
   "execution_count": 1,
   "metadata": {},
   "outputs": [],
   "source": [
    "import matplotlib.pyplot as plt\n",
    "from itertools import product\n",
    "import numpy as np"
   ]
  },
  {
   "cell_type": "code",
   "execution_count": 2,
   "metadata": {},
   "outputs": [],
   "source": [
    "def sinkhorn_with_polarization(C, a, b, P, P_max, epsilon, lambda_p, dual_lr=0.1, precision=1e-5, max_iter=5000):\n",
    "    \"\"\"\n",
    "    Sinkhorn algorithm with average absolute per-user polarization constraint.\n",
    "\n",
    "    Args:\n",
    "        C (ndarray): Cost matrix.\n",
    "        a (ndarray): Marginal distribution for rows (shape: (n, 1)).\n",
    "        b (ndarray): Marginal distribution for columns (shape: (m, 1)).\n",
    "        P (ndarray): Polarization scores for columns (shape: (m,)).\n",
    "        P_max (float): Maximum allowable average absolute per-user polarization.\n",
    "        epsilon (float): Entropic regularization parameter.\n",
    "        lambda_p (float): Polarization penalty weight.\n",
    "        dual_lr (float): Learning rate for dual variable (kappa).\n",
    "        precision (float): Convergence threshold.\n",
    "        max_iter (int): Maximum number of iterations.\n",
    "\n",
    "    Returns:\n",
    "        P_opt (ndarray): Optimal transport plan.\n",
    "        polarization_history (list): Evolution of average absolute per-user polarization over iterations.\n",
    "        kappa_history (list): Evolution of dual variable kappa over iterations.\n",
    "        objective_history (list): Evolution of objective function over iterations.\n",
    "    \"\"\"\n",
    "    n, m = C.shape\n",
    "    # Initialize variables\n",
    "    kappa = 0.0  # Dual variable for polarization constraint\n",
    "    u = np.ones((n, 1))  # Row scaling factors\n",
    "    v = np.ones((m, 1))  # Column scaling factors\n",
    "    polarization_history = []\n",
    "    kappa_history = []\n",
    "    objective_history = []\n",
    "    objective_history_engagement = []\n",
    "    \n",
    "    # Compute initial adjusted cost matrix and kernel\n",
    "    C_adjusted = C + lambda_p * P[np.newaxis, :] + kappa * P[np.newaxis, :]\n",
    "    # Cap the exponent to prevent numerical issues\n",
    "    max_exponent = 700  # np.exp(700) is close to the maximum float64 value\n",
    "    exponent = -C_adjusted / epsilon\n",
    "    exponent = np.clip(exponent, -max_exponent, max_exponent)\n",
    "    K = np.exp(exponent)\n",
    "\n",
    "    for iteration in range(max_iter):\n",
    "        # Update scaling factors using the current kernel\n",
    "        for _ in range(50):  # Inner loop for Sinkhorn iterations\n",
    "            u_prev = u.copy()\n",
    "            v_prev = v.copy()\n",
    "\n",
    "            u = a / np.maximum(K @ v, 1e-100)\n",
    "            v = b / np.maximum(K.T @ u, 1e-100)\n",
    "\n",
    "            # Convergence check for scaling factors\n",
    "            err_u = np.linalg.norm(u - u_prev)\n",
    "            err_v = np.linalg.norm(v - v_prev)\n",
    "            if err_u < precision and err_v < precision:\n",
    "                break\n",
    "\n",
    "        # Compute transport plan\n",
    "        P_opt = np.diagflat(u.flatten()) @ K @ np.diagflat(v.flatten())\n",
    "\n",
    "        # Compute per-user polarization\n",
    "        per_user_polarization = (P_opt @ P) / a.flatten()\n",
    "        # Compute average absolute per-user polarization\n",
    "        total_polarization = np.mean(np.abs(per_user_polarization))\n",
    "        polarization_history.append(total_polarization)\n",
    "\n",
    "        # Compute objective function value\n",
    "        objective = -np.sum(P_opt * C) + lambda_p * np.sum(P_opt * P[np.newaxis, :]) - epsilon * np.sum(P_opt * (np.log(P_opt + 1e-100) - 1))\n",
    "        engagement = -np.sum(P_opt * C)\n",
    "        objective_history.append(objective)\n",
    "        objective_history_engagement.append(engagement)\n",
    "\n",
    "        # Store dual variable history\n",
    "        kappa_history.append(kappa)\n",
    "\n",
    "        # Check polarization constraint\n",
    "        if total_polarization > P_max + precision:\n",
    "            # Update dual variable for polarization constraint\n",
    "            polarization_violation = total_polarization - P_max\n",
    "            kappa += dual_lr * polarization_violation\n",
    "            kappa = max(kappa, 0.0)  # Ensure kappa remains non-negative\n",
    "\n",
    "            # Update adjusted cost matrix and kernel with new kappa\n",
    "            C_adjusted = C + lambda_p * P[np.newaxis, :] + kappa * P[np.newaxis, :]\n",
    "            exponent = -C_adjusted / epsilon\n",
    "            exponent = np.clip(exponent, -max_exponent, max_exponent)\n",
    "            K = np.exp(exponent)\n",
    "        else:\n",
    "            # Polarization constraint satisfied\n",
    "            if err_u < precision and err_v < precision:\n",
    "                print(f\"Converged at iteration {iteration} with average absolute per-user polarization = {total_polarization:.4f}.\")\n",
    "                break\n",
    "\n",
    "    else:\n",
    "        print(f\"Reached maximum iterations ({max_iter}) with average absolute per-user polarization = {total_polarization:.4f}.\")\n",
    "\n",
    "    return P_opt, polarization_history, kappa_history, objective_history, objective_history_engagement\n"
   ]
  },
  {
   "cell_type": "code",
   "execution_count": 5,
   "metadata": {},
   "outputs": [
    {
     "name": "stdout",
     "output_type": "stream",
     "text": [
      "Converged at iteration 4057 with average absolute per-user polarization = 0.2000.\n",
      "Optimal transport plan computed.\n",
      "Total polarization: 0.1999\n",
      "Total polarization constraint P_max: 0.2\n",
      "Sum over users (should equal a): False\n",
      "Sum over content (should equal b): False\n"
     ]
    }
   ],
   "source": [
    "# Example setup and testing\n",
    "if __name__ == \"__main__\":\n",
    "    n_users = 500\n",
    "    n_content = 400\n",
    "    np.random.seed(42)\n",
    "\n",
    "    # Generate distributions and polarization scores\n",
    "    a = np.random.rand(n_users, 1)\n",
    "    a /= a.sum()\n",
    "    b = np.random.rand(n_content, 1)\n",
    "    b /= b.sum()\n",
    "    C = np.random.rand(n_users, n_content)  # Cost matrix\n",
    "    P = np.random.rand(n_content)  # Polarization scores\n",
    "\n",
    "    # Constraints and regularization\n",
    "    P_max = 0.2  # Adjusted P_max to ensure feasibility\n",
    "    epsilon = 0.1  # Entropic regularization parameter\n",
    "    lambda_p = 1.0  # Polarization penalty weight\n",
    "    dual_lr = 0.5  # Increased learning rate\n",
    "\n",
    "    # Run the modified Sinkhorn algorithm\n",
    "    P_opt, polarization_history, kappa_history, objective_history, objective_history_engagement = sinkhorn_with_polarization(\n",
    "        C, a, b, P, P_max, epsilon, lambda_p, dual_lr=dual_lr, precision=1e-6, max_iter=5000\n",
    "    )\n",
    "\n",
    "    # Print the results\n",
    "    total_polarization = np.sum(P_opt * P[np.newaxis, :])\n",
    "    print(\"Optimal transport plan computed.\")\n",
    "    print(f\"Total polarization: {total_polarization:.4f}\")\n",
    "    print(f\"Total polarization constraint P_max: {P_max}\")\n",
    "    print(f\"Sum over users (should equal a): {np.allclose(P_opt.sum(axis=1, keepdims=True), a, atol=1e-6)}\")\n",
    "    print(f\"Sum over content (should equal b): {np.allclose(P_opt.sum(axis=0, keepdims=True).T, b, atol=1e-6)}\")"
   ]
  },
  {
   "cell_type": "code",
   "execution_count": 6,
   "metadata": {},
   "outputs": [
    {
     "data": {
      "image/png": "[encoded data removed]",
      "text/plain": [
       "<Figure size 864x288 with 3 Axes>"
      ]
     },
     "metadata": {
      "needs_background": "light"
     },
     "output_type": "display_data"
    }
   ],
   "source": [
    "# Plotting the evolution of polarization and objective value\n",
    "plt.figure(figsize=(12, 4))\n",
    "\n",
    "plt.subplot(1, 3, 1)\n",
    "plt.plot(polarization_history)\n",
    "plt.axhline(P_max, color='r', linestyle='--', label='P_max')\n",
    "plt.xlabel('Iteration')\n",
    "plt.ylabel('Total Polarization')\n",
    "plt.title('Total Polarization over Iterations')\n",
    "plt.legend()\n",
    "\n",
    "plt.subplot(1, 3, 2)\n",
    "plt.plot(objective_history)\n",
    "plt.xlabel('Iteration')\n",
    "plt.ylabel('Objective Value')\n",
    "plt.title('Objective Value over Iterations')\n",
    "\n",
    "plt.subplot(1, 3, 3)\n",
    "plt.plot(kappa_history)\n",
    "plt.xlabel('Iteration')\n",
    "plt.ylabel('Dual Variable (kappa)')\n",
    "plt.title('Dual Variable over Iterations')\n",
    "\n",
    "plt.tight_layout()\n",
    "plt.show()"
   ]
  },
  {
   "cell_type": "code",
   "execution_count": null,
   "metadata": {},
   "outputs": [
    {
     "ename": "NameError",
     "evalue": "name 'iterations' is not defined",
     "output_type": "error",
     "traceback": [
      "\u001b[1;31m---------------------------------------------------------------------------\u001b[0m",
      "\u001b[1;31mNameError\u001b[0m                                 Traceback (most recent call last)",
      "Input \u001b[1;32mIn [8]\u001b[0m, in \u001b[0;36m<cell line: 7>\u001b[1;34m()\u001b[0m\n\u001b[0;32m      5\u001b[0m \u001b[38;5;66;03m# Plot Trade-off Between Polarization and Engagement\u001b[39;00m\n\u001b[0;32m      6\u001b[0m plt\u001b[38;5;241m.\u001b[39mfigure(figsize\u001b[38;5;241m=\u001b[39m(\u001b[38;5;241m8\u001b[39m, \u001b[38;5;241m6\u001b[39m))\n\u001b[1;32m----> 7\u001b[0m plt\u001b[38;5;241m.\u001b[39mscatter(polarization_normalized, engagement_normalized, c\u001b[38;5;241m=\u001b[39m\u001b[43miterations\u001b[49m, cmap\u001b[38;5;241m=\u001b[39m\u001b[38;5;124m'\u001b[39m\u001b[38;5;124mviridis\u001b[39m\u001b[38;5;124m'\u001b[39m, marker\u001b[38;5;241m=\u001b[39m\u001b[38;5;124m'\u001b[39m\u001b[38;5;124mo\u001b[39m\u001b[38;5;124m'\u001b[39m)\n\u001b[0;32m      8\u001b[0m plt\u001b[38;5;241m.\u001b[39mxlabel(\u001b[38;5;124m'\u001b[39m\u001b[38;5;124mNormalized Total Polarization\u001b[39m\u001b[38;5;124m'\u001b[39m)\n\u001b[0;32m      9\u001b[0m plt\u001b[38;5;241m.\u001b[39mylabel(\u001b[38;5;124m'\u001b[39m\u001b[38;5;124mNormalized Engagement Score\u001b[39m\u001b[38;5;124m'\u001b[39m)\n",
      "\u001b[1;31mNameError\u001b[0m: name 'iterations' is not defined"
     ]
    },
    {
     "data": {
      "text/plain": [
       "<Figure size 576x432 with 0 Axes>"
      ]
     },
     "metadata": {},
     "output_type": "display_data"
    }
   ],
   "source": [
    "# Normalize engagement and polarization for better scaling\n",
    "engagement_normalized = (np.array(engagement_history) - min(engagement_history)) / (max(engagement_history) - min(engagement_history))\n",
    "polarization_normalized = (np.array(polarization_history) - min(polarization_history)) / (max(polarization_history) - min(polarization_history))\n",
    "\n",
    "# Plot Trade-off Between Polarization and Engagement\n",
    "plt.figure(figsize=(8, 6))\n",
    "plt.scatter(polarization_normalized, engagement_normalized, c=iterations, cmap='viridis', marker='o')\n",
    "plt.xlabel('Normalized Total Polarization')\n",
    "plt.ylabel('Normalized Engagement Score')\n",
    "plt.title('Trade-off Between Polarization and Engagement')\n",
    "cbar = plt.colorbar()\n",
    "cbar.set_label('Iteration')\n",
    "plt.grid(True)\n",
    "plt.tight_layout()\n",
    "# plt.savefig('tradeoff_plot.png', dpi=300)\n",
    "plt.show()\n"
   ]
  },
  {
   "cell_type": "code",
   "execution_count": null,
   "metadata": {},
   "outputs": [],
   "source": []
  }
 ],
 "metadata": {
  "kernelspec": {
   "display_name": "base",
   "language": "python",
   "name": "python3"
  },
  "language_info": {
   "codemirror_mode": {
    "name": "ipython",
    "version": 3
   },
   "file_extension": ".py",
   "mimetype": "text/x-python",
   "name": "python",
   "nbconvert_exporter": "python",
   "pygments_lexer": "ipython3",
   "version": "3.9.12"
  }
 },
 "nbformat": 4,
 "nbformat_minor": 2
}
